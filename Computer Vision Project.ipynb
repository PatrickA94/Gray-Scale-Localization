{
 "cells": [
  {
   "cell_type": "code",
   "execution_count": 4,
   "metadata": {
    "collapsed": true
   },
   "outputs": [],
   "source": [
    "\n",
    "import re\n",
    "import glob\n",
    "import numpy as np\n",
    "np.set_printoptions(threshold='nan')\n",
    "import scipy.ndimage\n",
    "from PIL import Image, ImageDraw\n",
    "import cProfile"
   ]
  },
  {
   "cell_type": "markdown",
   "metadata": {},
   "source": [
    "# Computer Vision"
   ]
  },
  {
   "cell_type": "markdown",
   "metadata": {},
   "source": [
    "## Whats the problem?\n",
    "\n",
    "- Find moving objects in a series of pictures"
   ]
  },
  {
   "cell_type": "markdown",
   "metadata": {},
   "source": [
    "![title](pics/orgif.gif)"
   ]
  },
  {
   "cell_type": "code",
   "execution_count": 2,
   "metadata": {
    "collapsed": true
   },
   "outputs": [],
   "source": [
    "class Pictures():\n",
    "\n",
    "\n",
    "\n",
    "    def __init__(self,image): #pass the class a image\n",
    "        self.img = Image.open(image).convert('L')#Import the Image\n",
    "        self.img_array = np.array(self.img) # convert to a array\n",
    "        self.filt_img_array=self.filtered_Img(3)#NEED MAKE FUNCTION FOR GAUS\n",
    "        self.filt_img_array= self.image_histogram_equalization(self.filt_img_array)\n",
    "        self.imgshape = self.img_array.shape\n",
    "\n",
    "#Need function to decide gaus filter\n",
    "\n",
    "    def filtered_Img(self,gaus_filt):\n",
    "        self.img_array_int = self.img_array.astype(int)\n",
    "        self.filt_img_array = scipy.ndimage.filters.gaussian_filter(self.img_array_int,gaus_filt)\n",
    "        return self.filt_img_array\n",
    "\n",
    "    def histogram(self):\n",
    "        self.hist, self.bins = np.histogram(self.img_array, bins=255, range=(1, 255))\n",
    "        return self.hist\n",
    "\n",
    "    def image_histogram_equalization(self, image, number_bins=256):\n",
    "\n",
    "        # from http://www.janeriksolem.net/2009/06/histogram-equalization-with-python-and.html\n",
    "\n",
    "        # get image histogram\n",
    "        image_histogram, bins = np.histogram(image.flatten(), number_bins, normed=True)\n",
    "        cdf = image_histogram.cumsum()  # cumulative distribution function\n",
    "        cdf = 255 * cdf / cdf[-1]  # normalize\n",
    "\n",
    "        # use linear interpolation of cdf to find new pixel values\n",
    "        image_equalized = np.interp(image.flatten(), bins[:-1], cdf)\n",
    "\n",
    "        return image_equalized.reshape(image.shape)\n",
    "\n",
    "    def imgrt(self): # ised to return the image\n",
    "        return self.filt_img_array\n",
    "\n",
    "    def shape(self,x): #used to get the size of the image in either the X or Y Axis\n",
    "        return self.imgshape[x]\n",
    "\n",
    "    def array_return(self): #returns the array object\n",
    "        return self.img_array"
   ]
  },
  {
   "cell_type": "markdown",
   "metadata": {},
   "source": [
    "# No Gaus filtering "
   ]
  },
  {
   "cell_type": "markdown",
   "metadata": {},
   "source": [
    "![No Gaus](pics/nofiltgif.gif)"
   ]
  },
  {
   "cell_type": "markdown",
   "metadata": {},
   "source": [
    "# No Gaus or Histogram Filetering"
   ]
  },
  {
   "cell_type": "markdown",
   "metadata": {},
   "source": [
    "![No Filt](pics/nogaushistgif.gif)"
   ]
  },
  {
   "cell_type": "markdown",
   "metadata": {},
   "source": [
    "# No Hist"
   ]
  },
  {
   "cell_type": "markdown",
   "metadata": {},
   "source": [
    "![No Filt](pics/nhistgif.gif)"
   ]
  },
  {
   "cell_type": "code",
   "execution_count": 10,
   "metadata": {
    "collapsed": true
   },
   "outputs": [],
   "source": [
    "class compare():\n",
    "\n",
    "    def __init__(self,first,second):\n",
    "        self.first=first\n",
    "        self.second=second\n",
    "\n",
    "#Ceate function for thresh\n",
    "\n",
    "    def bin_diff(self,thresh):\n",
    "        self.diff = abs(self.first.imgrt().__sub__(self.second.imgrt()))\n",
    "        self.diff2 = abs(self.second.imgrt().__sub__(self.first.imgrt()))\n",
    "\n",
    "        self.diff = self.diff.flatten()\n",
    "        self.diff2 = self.diff2.flatten()\n",
    "\n",
    "        for pixel in np.nditer(self.diff,op_flags=['readwrite']):\n",
    "            if pixel < thresh:\n",
    "                pixel[...] = 0\n",
    "            else:\n",
    "                pixel[...] = 1\n",
    "\n",
    "        for pixel1 in np.nditer(self.diff2, op_flags=['readwrite']):\n",
    "            if pixel1 < thresh:\n",
    "                pixel1[...] = 0\n",
    "            else:\n",
    "                pixel1[...] = 1\n",
    "\n",
    "        self.diff = np.logical_and(self.diff, self.diff2)\n",
    "\n",
    "\n",
    "\n",
    "        self.diff = self.diff.astype(int)\n",
    "\n",
    "        for pixel in np.nditer(self.diff,op_flags=['readwrite']):\n",
    "            if pixel == 0:\n",
    "                pixel[...] = 0\n",
    "            else:\n",
    "                pixel[...] = 1\n",
    "\n",
    "\n",
    "        x=self.first.shape(0)\n",
    "        y= self.first.shape(1)\n",
    "        self.diff = np.reshape(self.diff,(x,y))\n",
    "\n",
    "        return self.diff"
   ]
  },
  {
   "cell_type": "markdown",
   "metadata": {},
   "source": [
    "## Bin diff of 25"
   ]
  },
  {
   "cell_type": "markdown",
   "metadata": {},
   "source": [
    "![title](pics/difgif.gif)"
   ]
  },
  {
   "cell_type": "markdown",
   "metadata": {
    "collapsed": true
   },
   "source": [
    "## Bin diff of 8"
   ]
  },
  {
   "cell_type": "markdown",
   "metadata": {},
   "source": [
    "![title](pics/bindiff8gif.gif)"
   ]
  },
  {
   "cell_type": "markdown",
   "metadata": {},
   "source": [
    "## Bin diff of 50"
   ]
  },
  {
   "cell_type": "markdown",
   "metadata": {},
   "source": [
    "![title](pics/bindiff50gif.gif)"
   ]
  },
  {
   "cell_type": "code",
   "execution_count": 5,
   "metadata": {
    "collapsed": true
   },
   "outputs": [],
   "source": [
    "class Component_grouping():\n",
    "    # Initilize the Array called parent which stores the parent of each label\n",
    "    def __init__(self):\n",
    "        self.parent = []\n",
    "        self.label=1\n",
    "        for i in xrange(0,1000): # May need to be adjusted depending on images size and amount of objects in image\n",
    "            self.parent.append(0)\n",
    "    # Finds the Root of the Label and returns the value\n",
    "    def find(self,labelval,parent):\n",
    "        self.label = labelval\n",
    "        self.label2 = labelval\n",
    "        # loop until root is found\n",
    "        while parent[self.label] != 0:\n",
    "            self.label = parent[self.label]\n",
    "\n",
    "        return self.label\n",
    "    # Finds the roots of the two sets that are to be merged and if they do not have the same root Set2 is joined to Set1\n",
    "    def union(self,set1,set2,parent):\n",
    "        self.set1 = set1\n",
    "        self.set2 = set2\n",
    "        while parent[self.set1] != 0:\n",
    "            self.set1 = parent[self.set1]\n",
    "        while parent[self.set2] != 0:\n",
    "            self.set2 = parent[self.set2]\n",
    "        if self.set1 != self.set2:\n",
    "            parent[self.set2]=self.set1\n",
    "    #Return the Legal pixel locations that are around a pixel (X,Y)\n",
    "    #Legal if pixel is within the image and equals to one\n",
    "    def prior_neighbors(self,y_cord,x_cord,bin_img):\n",
    "\n",
    "        self.bin_img=bin_img\n",
    "\n",
    "        self.pixel = []\n",
    "        self.pixelval1 = [y_cord-1,x_cord-1]\n",
    "        self.pixelval2 = [y_cord-1,x_cord]\n",
    "        self.pixelval3 = [y_cord-1,x_cord+1]\n",
    "        self.pixelval4 = [y_cord,x_cord-1]\n",
    "\n",
    "        self.pixelval = [self.pixelval1,self.pixelval2,self.pixelval3,self.pixelval4]\n",
    "        #loop to check if pixels are valid\n",
    "        for x in self.pixelval:\n",
    "            if (0<= x[0]<self.bin_img.shape[0]) and (0<= x[1] < self.bin_img.shape[1]):\n",
    "                if self.bin_img[x[0],x[1]] ==1:\n",
    "                    self.pixel.append(x)\n",
    "        return self.pixel\n",
    "    #input locations of prior neighbors and find there label values\n",
    "    def labels(self,prior_neigh,component_img):\n",
    "        self.prior_neigh=prior_neigh\n",
    "        self.comp_img=component_img\n",
    "        self.labelArray = []\n",
    "\n",
    "        for neighbor in self.prior_neigh:\n",
    "            x = neighbor[0]\n",
    "            y = neighbor[1]\n",
    "            self.labelArray.append(self.comp_img[x,y])\n",
    "\n",
    "        return self.labelArray\n",
    "    \"\"\"\n",
    "\n",
    "    2-Pass grouping algorithm\n",
    "\n",
    "    Pass 1\n",
    "    Gives every pixel with the value of one a Label Value\n",
    "    Label value determined by checking what the label values of the neighbors are and taking the smallest value\n",
    "    If there is no neighbors then assigns it the next available label and increments label by one\n",
    "    Then loops through the neighbors and if they are not equal to the min label found earlier and does the Union\n",
    "\n",
    "    Pass 2\n",
    "    Goes through all pixels with values of one and finds the root of each label to make all connected components\n",
    "    have the same label value\n",
    "\n",
    "    \"\"\"\n",
    "    def group_comp(self,bin_img,component_img,height,width):\n",
    "        self.bin_img=bin_img\n",
    "        self.component_img = component_img\n",
    "        for y in xrange(0,height):\n",
    "            for x in xrange(0,width):\n",
    "                if self.bin_img[y,x] ==1:\n",
    "                    pix_loc_arr_neigh = self.prior_neighbors(y,x,self.bin_img)\n",
    "                    if not pix_loc_arr_neigh:\n",
    "                        M = self.label\n",
    "                        self.label = self.label +1\n",
    "                    else:\n",
    "                        M = min(self.labels(pix_loc_arr_neigh, self.component_img))\n",
    "                    self.component_img[y,x] = M\n",
    "                    for label in self.labels(pix_loc_arr_neigh,self.component_img):\n",
    "                        if label<>M:\n",
    "                            self.union(M,label,self.parent)\n",
    "\n",
    "        for y in xrange(0,height):\n",
    "            for x in xrange(0,width):\n",
    "                if self.bin_img.item(y,x) ==1:\n",
    "                    self.component_img[y,x] = self.find(self.component_img[y,x],self.parent)\n",
    "\n",
    "        return self.component_img"
   ]
  },
  {
   "cell_type": "markdown",
   "metadata": {},
   "source": [
    "![title](pics/compgif.gif)"
   ]
  },
  {
   "cell_type": "code",
   "execution_count": 6,
   "metadata": {
    "collapsed": true
   },
   "outputs": [],
   "source": [
    "class post_Proc():\n",
    "\n",
    "    def __init__(self, component_img,):\n",
    "        self.component_img = component_img\n",
    "\n",
    "    #Sig_components returns the labels which have at least X amount of pixels in them using a histogram\n",
    "    def sig_components(self,size):\n",
    "        self.size =size\n",
    "        self.component_img = self.component_img.astype(np.uint8)\n",
    "        self.component_img_flat = self.component_img.flatten()\n",
    "\n",
    "        hist, bins = np.histogram(self.component_img_flat, bins=255, range=(1, 255))\n",
    "        hist[np.where(hist <= self.size)] = 0\n",
    "\n",
    "        sig_comp = np.where(hist != 0)[0]\n",
    "        sig_comp = np.add(sig_comp, 1)\n",
    "\n",
    "        return sig_comp\n",
    "\n",
    "    # The box function is used to put boxes on all the components deemed to be significant\n",
    "    def box(self, sig_comp, component_img,image):\n",
    "        self.image = Image.fromarray(image)\n",
    "        self.sig_comp = sig_comp\n",
    "        self.component_img = component_img\n",
    "        dr = ImageDraw.Draw(self.image)\n",
    "\n",
    "        for comp in sig_comp:\n",
    "            pixelspace=np.where(self.component_img == comp)\n",
    "            max_x=0\n",
    "            min_x=9999\n",
    "            max_y=0\n",
    "            min_y=9999\n",
    "\n",
    "            for pixel in zip(*pixelspace[::-1]):\n",
    "                if pixel[0]>max_x:\n",
    "                    max_x=pixel[0]\n",
    "                if pixel[0]<min_x:\n",
    "                    min_x=pixel[0]\n",
    "                if pixel[1]>max_y:\n",
    "                    max_y=pixel[1]\n",
    "                if pixel[1]<min_y:\n",
    "                    min_y=pixel[1]\n",
    "            dr.rectangle((min_x,min_y,max_x,max_y),outline=\"black\")\n",
    "        return self.image"
   ]
  },
  {
   "cell_type": "markdown",
   "metadata": {
    "collapsed": true
   },
   "source": [
    "<img src=\"pics/Finalgif.gif\" width=\"600\">"
   ]
  },
  {
   "cell_type": "code",
   "execution_count": 2,
   "metadata": {},
   "outputs": [
    {
     "ename": "NameError",
     "evalue": "global name 're' is not defined",
     "output_type": "error",
     "traceback": [
      "\u001b[0;31m---------------------------------------------------------------------------\u001b[0m",
      "\u001b[0;31mNameError\u001b[0m                                 Traceback (most recent call last)",
      "\u001b[0;32m<ipython-input-2-238564d1a401>\u001b[0m in \u001b[0;36m<module>\u001b[0;34m()\u001b[0m\n\u001b[1;32m     37\u001b[0m         '''\n\u001b[1;32m     38\u001b[0m         \u001b[0mcount\u001b[0m \u001b[0;34m=\u001b[0m \u001b[0mcount\u001b[0m \u001b[0;34m+\u001b[0m \u001b[0;36m1\u001b[0m\u001b[0;34m\u001b[0m\u001b[0m\n\u001b[0;32m---> 39\u001b[0;31m \u001b[0mrun\u001b[0m\u001b[0;34m(\u001b[0m\u001b[0;34m)\u001b[0m\u001b[0;34m\u001b[0m\u001b[0m\n\u001b[0m",
      "\u001b[0;32m<ipython-input-2-238564d1a401>\u001b[0m in \u001b[0;36mrun\u001b[0;34m()\u001b[0m\n\u001b[1;32m      2\u001b[0m \u001b[0;32mdef\u001b[0m \u001b[0mrun\u001b[0m\u001b[0;34m(\u001b[0m\u001b[0;34m)\u001b[0m\u001b[0;34m:\u001b[0m\u001b[0;34m\u001b[0m\u001b[0m\n\u001b[1;32m      3\u001b[0m \u001b[0;34m\u001b[0m\u001b[0m\n\u001b[0;32m----> 4\u001b[0;31m     \u001b[0mnumbers\u001b[0m \u001b[0;34m=\u001b[0m \u001b[0mre\u001b[0m\u001b[0;34m.\u001b[0m\u001b[0mcompile\u001b[0m\u001b[0;34m(\u001b[0m\u001b[0;34mr'(\\d+)'\u001b[0m\u001b[0;34m)\u001b[0m\u001b[0;34m\u001b[0m\u001b[0m\n\u001b[0m\u001b[1;32m      5\u001b[0m     \u001b[0;32mdef\u001b[0m \u001b[0mnumericalSort\u001b[0m\u001b[0;34m(\u001b[0m\u001b[0mvalue\u001b[0m\u001b[0;34m)\u001b[0m\u001b[0;34m:\u001b[0m\u001b[0;34m\u001b[0m\u001b[0m\n\u001b[1;32m      6\u001b[0m         \u001b[0mparts\u001b[0m \u001b[0;34m=\u001b[0m \u001b[0mnumbers\u001b[0m\u001b[0;34m.\u001b[0m\u001b[0msplit\u001b[0m\u001b[0;34m(\u001b[0m\u001b[0mvalue\u001b[0m\u001b[0;34m)\u001b[0m\u001b[0;34m\u001b[0m\u001b[0m\n",
      "\u001b[0;31mNameError\u001b[0m: global name 're' is not defined"
     ]
    }
   ],
   "source": [
    "\n",
    "def run():\n",
    "\n",
    "    numbers = re.compile(r'(\\d+)')\n",
    "    def numericalSort(value):\n",
    "        parts = numbers.split(value)\n",
    "        parts[1::2] = map(int, parts[1::2])\n",
    "        return parts\n",
    "\n",
    "    frame = []\n",
    "    for filename in sorted(glob.glob(\"/home/patrick/Documents/Reverse Career Fair/exersize1/*.jpg\"), key=numericalSort):\n",
    "        frame.append(Pictures(filename))\n",
    "\n",
    "    count = 1\n",
    "    for x in frame:\n",
    "        comp = compare(frame[count-1], frame[count])\n",
    "        comp = comp.bin_diff(25)\n",
    "        comp = Image.fromarray(comp.astype(np.uint8))\n",
    "        \n",
    "\n",
    "        comp.save('/home/patrick/Documents/Reverse Career Fair/exersize1/outputs/comp' + str(count) +'.jpg')\n",
    "        comp = np.array(comp)\n",
    "        \n",
    "        grp =Component_grouping()\n",
    "        grp = grp.group_comp(comp,np.empty([comp.shape[0],comp.shape[1]], dtype= int),comp.shape[0],comp.shape[1] )\n",
    "        grp2 = Image.fromarray(grp.astype(np.uint8))\n",
    "        #grp2.save('D:\\Google Drive\\UOIT\\Software Engineering\\Second Year(2016_2017)\\Winter Semester\\Data Structures\\Project\\Computer vision\\CV-Project\\cv\\output\\diffimg' + str(count) + \".jpg\")\n",
    "        grp2.save('/home/patrick/Documents/Reverse Career Fair/exersize1/outputs/compimg' + str(count) + \".jpg\")\n",
    "        '''\n",
    "        new = post_Proc(grp)\n",
    "        sig = new.sig_components(200)\n",
    "        d = new.box(sig,grp,frame[count].array_return())\n",
    "\n",
    "\n",
    "        #d.save( '/home/patrick/Documents/Reverse Career Fair/exersize1/outputs/finalpic' + str(count) + \".jpg\")\n",
    "        #comp.save ('C:\\Users\\Public\\cv-project-out\\ijhgf' + str(count) + \".jpg\")\n",
    "        '''\n",
    "        count = count + 1\n",
    "run()"
   ]
  },
  {
   "cell_type": "code",
   "execution_count": null,
   "metadata": {
    "collapsed": true
   },
   "outputs": [],
   "source": []
  },
  {
   "cell_type": "code",
   "execution_count": null,
   "metadata": {
    "collapsed": true
   },
   "outputs": [],
   "source": [
    "--NotebookApp.iopub_data_rate_limit"
   ]
  }
 ],
 "metadata": {
  "kernelspec": {
   "display_name": "Python 2",
   "language": "python",
   "name": "python2"
  },
  "language_info": {
   "codemirror_mode": {
    "name": "ipython",
    "version": 2
   },
   "file_extension": ".py",
   "mimetype": "text/x-python",
   "name": "python",
   "nbconvert_exporter": "python",
   "pygments_lexer": "ipython2",
   "version": "2.7.13"
  }
 },
 "nbformat": 4,
 "nbformat_minor": 2
}
